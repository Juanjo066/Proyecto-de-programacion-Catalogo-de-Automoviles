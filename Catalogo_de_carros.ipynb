{
  "nbformat": 4,
  "nbformat_minor": 0,
  "metadata": {
    "colab": {
      "provenance": []
    },
    "kernelspec": {
      "name": "python3",
      "display_name": "Python 3"
    },
    "language_info": {
      "name": "python"
    }
  },
  "cells": [
    {
      "cell_type": "code",
      "source": [
        "import csv\n",
        "import requests\n",
        "from PIL import Image\n",
        "\n",
        "class Carro:\n",
        "\n",
        "def __init__(self, marca, modelo, año, precio):\n",
        "        self.marca = marca\n",
        "        self.modelo = modelo\n",
        "        self.año = año\n",
        "        self.precio = precio\n",
        "\n",
        "def leer_archivo():\n",
        "    carros = []\n",
        "    with open(\"cars_abridged.txt\", \"r\") as archivo:\n",
        "        lector = csv.reader(archivo, delimiter=\",\")\n",
        "        for fila in lector:\n",
        "            carros.append(Carro(fila[0], fila[1], int(fila[2]), float(fila[3])))\n",
        "    return carros\n",
        "\n",
        "def mostrar_carros(carros, marca, modelo, año_inicio, año_fin):\n",
        "    carros_filtrados = []\n",
        "    for carro in carros:\n",
        "        if marca is None or carro.marca == marca:\n",
        "            if modelo is None or carro.modelo == modelo:\n",
        "                if año_inicio is None or carro.año >= año_inicio:\n",
        "                    if año_fin is None or carro.año <= año_fin:\n",
        "                        carros_filtrados.append(carro)\n",
        "    return carros_filtrados\n",
        "\n",
        "def pedir_datos():\n",
        "    marca = input(\"Ingrese la marca (o nada para no filtrar): \")\n",
        "    modelo = input(\"Ingrese el modelo (o nada para no filtrar): \")\n",
        "    año_inicio = input(\"Ingrese el año inicial (o nada para no filtrar): \")\n",
        "    año_fin = input(\"Ingrese el año final (o nada para no filtrar): \")\n",
        "    return marca, modelo, año_inicio, año_fin\n",
        "\n",
        "def mostrar_imagen(carro):\n",
        "    url = f\"https://upload.wikimedia.org/wikipedia/commons/thumb/{carro.marca}/{carro.modelo}/{carro.modelo}_2010.jpg/1200px-{carro.modelo}_2010.jpg\"\n",
        "    response = requests.get(url)\n",
        "    imagen = Image.open(response.content)\n",
        "    imagen.show()\n",
        "\n",
        "def escoger_carros(carros, valor_minimo):\n",
        "    carros_mejores = []\n",
        "    for carro in carros:\n",
        "        if carro.precio >= valor_minimo:\n",
        "            carros_mejores.append(carro)\n",
        "    return carros_mejores\n",
        "\n",
        "carros = leer_archivo('cars_abridged.txt')\n",
        "marca, modelo, año_inicio, año_fin = pedir_datos()\n",
        "carros_filtrados = mostrar_carros(carros, marca, modelo, año_inicio, año_fin)\n",
        "\n",
        "valor_minimo = float(input(\"Ingrese el valor mínimo: \"))\n",
        "carros_mejores = escoger_carros(carros_filtrados, valor_minimo)\n",
        "\n",
        "for carro in carros_mejores:\n",
        "    print(f\"Marca: {carro.marca} Modelo: {carro.modelo} Año: {carro.año} Precio: ${carro.precio}\")\n",
        "\n",
        "carro_escogido = carros_mejores[0]\n",
        "mostrar_imagen(carro_escogido)"
      ],
      "metadata": {
        "colab": {
          "base_uri": "https://localhost:8080/",
          "height": 253
        },
        "id": "WPXxaN-aECXQ",
        "outputId": "54f0f6b1-9e46-4599-f90b-52ccab557686"
      },
      "execution_count": 7,
      "outputs": [
        {
          "output_type": "error",
          "ename": "TypeError",
          "evalue": "ignored",
          "traceback": [
            "\u001b[0;31m---------------------------------------------------------------------------\u001b[0m",
            "\u001b[0;31mTypeError\u001b[0m                                 Traceback (most recent call last)",
            "\u001b[0;32m<ipython-input-7-dd51979c5408>\u001b[0m in \u001b[0;36m<cell line: 51>\u001b[0;34m()\u001b[0m\n\u001b[1;32m     49\u001b[0m     \u001b[0;32mreturn\u001b[0m \u001b[0mcarros_mejores\u001b[0m\u001b[0;34m\u001b[0m\u001b[0;34m\u001b[0m\u001b[0m\n\u001b[1;32m     50\u001b[0m \u001b[0;34m\u001b[0m\u001b[0m\n\u001b[0;32m---> 51\u001b[0;31m \u001b[0mcarros\u001b[0m \u001b[0;34m=\u001b[0m \u001b[0mleer_archivo\u001b[0m\u001b[0;34m(\u001b[0m\u001b[0;34m'cars_abridged.txt'\u001b[0m\u001b[0;34m)\u001b[0m\u001b[0;34m\u001b[0m\u001b[0;34m\u001b[0m\u001b[0m\n\u001b[0m\u001b[1;32m     52\u001b[0m \u001b[0mmarca\u001b[0m\u001b[0;34m,\u001b[0m \u001b[0mmodelo\u001b[0m\u001b[0;34m,\u001b[0m \u001b[0maño_inicio\u001b[0m\u001b[0;34m,\u001b[0m \u001b[0maño_fin\u001b[0m \u001b[0;34m=\u001b[0m \u001b[0mpedir_datos\u001b[0m\u001b[0;34m(\u001b[0m\u001b[0;34m)\u001b[0m\u001b[0;34m\u001b[0m\u001b[0;34m\u001b[0m\u001b[0m\n\u001b[1;32m     53\u001b[0m \u001b[0mcarros_filtrados\u001b[0m \u001b[0;34m=\u001b[0m \u001b[0mmostrar_carros\u001b[0m\u001b[0;34m(\u001b[0m\u001b[0mcarros\u001b[0m\u001b[0;34m,\u001b[0m \u001b[0mmarca\u001b[0m\u001b[0;34m,\u001b[0m \u001b[0mmodelo\u001b[0m\u001b[0;34m,\u001b[0m \u001b[0maño_inicio\u001b[0m\u001b[0;34m,\u001b[0m \u001b[0maño_fin\u001b[0m\u001b[0;34m)\u001b[0m\u001b[0;34m\u001b[0m\u001b[0;34m\u001b[0m\u001b[0m\n",
            "\u001b[0;31mTypeError\u001b[0m: leer_archivo() takes 0 positional arguments but 1 was given"
          ]
        }
      ]
    },
    {
      "cell_type": "markdown",
      "source": [
        "# Nueva sección"
      ],
      "metadata": {
        "id": "OuNU6duZBBJh"
      }
    }
  ]
}